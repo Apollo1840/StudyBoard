{
 "cells": [
  {
   "cell_type": "code",
   "execution_count": 2,
   "metadata": {},
   "outputs": [
    {
     "name": "stdout",
     "output_type": "stream",
     "text": [
      "/home/congyu/congyu_program/pythons/inits/p_study_time_board\n"
     ]
    },
    {
     "name": "stderr",
     "output_type": "stream",
     "text": [
      "/home/congyu/.virtualenvs/congyuml/lib/python3.6/site-packages/flask_sqlalchemy/__init__.py:834: FSADeprecationWarning: SQLALCHEMY_TRACK_MODIFICATIONS adds significant overhead and will be disabled by default in the future.  Set it to True or False to suppress this warning.\n",
      "  'SQLALCHEMY_TRACK_MODIFICATIONS adds significant overhead and '\n"
     ]
    }
   ],
   "source": [
    "import os\n",
    "os.chdir(os.path.dirname(os.getcwd()))\n",
    "print(os.getcwd())\n",
    "\n",
    "from studytimeboard.utils.gsheet import GoogleSheet\n",
    "from studytimeboard.data_analysis import *\n",
    "from studytimeboard.constant import *\n",
    "from studytimeboard import db\n",
    "from studytimeboard import StudyEventDB"
   ]
  },
  {
   "cell_type": "code",
   "execution_count": 3,
   "metadata": {},
   "outputs": [],
   "source": [
    "gs = GoogleSheet.read_from(STUDY_TIME_TABLE_NAME)"
   ]
  },
  {
   "cell_type": "code",
   "execution_count": 4,
   "metadata": {},
   "outputs": [],
   "source": [
    "df_dur = gs.sheet(sheet_name=SHEET1, least_col_name=START_TIME)\n",
    "df_eve = gs.sheet(sheet_name=SHEET2, least_col_name=NAME)\n",
    "\n",
    "df = merge_dur_eve(df_dur, df_eve)"
   ]
  },
  {
   "cell_type": "code",
   "execution_count": 5,
   "metadata": {},
   "outputs": [
    {
     "data": {
      "text/html": [
       "<div>\n",
       "<style scoped>\n",
       "    .dataframe tbody tr th:only-of-type {\n",
       "        vertical-align: middle;\n",
       "    }\n",
       "\n",
       "    .dataframe tbody tr th {\n",
       "        vertical-align: top;\n",
       "    }\n",
       "\n",
       "    .dataframe thead th {\n",
       "        text-align: right;\n",
       "    }\n",
       "</style>\n",
       "<table border=\"1\" class=\"dataframe\">\n",
       "  <thead>\n",
       "    <tr style=\"text-align: right;\">\n",
       "      <th></th>\n",
       "      <th>name</th>\n",
       "      <th>date</th>\n",
       "      <th>start_time</th>\n",
       "      <th>end_time</th>\n",
       "    </tr>\n",
       "  </thead>\n",
       "  <tbody>\n",
       "    <tr>\n",
       "      <th>0</th>\n",
       "      <td>Alpha</td>\n",
       "      <td>2020.11.09</td>\n",
       "      <td>11:00</td>\n",
       "      <td>12:00</td>\n",
       "    </tr>\n",
       "    <tr>\n",
       "      <th>1</th>\n",
       "      <td>Delta</td>\n",
       "      <td>2020.11.09</td>\n",
       "      <td>11:00</td>\n",
       "      <td>12:00</td>\n",
       "    </tr>\n",
       "    <tr>\n",
       "      <th>2</th>\n",
       "      <td>Delta</td>\n",
       "      <td>2020.11.09</td>\n",
       "      <td>08:00</td>\n",
       "      <td>15:00</td>\n",
       "    </tr>\n",
       "    <tr>\n",
       "      <th>3</th>\n",
       "      <td>Beta</td>\n",
       "      <td>2020.11.09</td>\n",
       "      <td>08:00</td>\n",
       "      <td>15:00</td>\n",
       "    </tr>\n",
       "    <tr>\n",
       "      <th>4</th>\n",
       "      <td>Diqing</td>\n",
       "      <td>2020.11.09</td>\n",
       "      <td>19:00</td>\n",
       "      <td>23:00</td>\n",
       "    </tr>\n",
       "  </tbody>\n",
       "</table>\n",
       "</div>"
      ],
      "text/plain": [
       "     name        date start_time end_time\n",
       "0   Alpha  2020.11.09      11:00    12:00\n",
       "1   Delta  2020.11.09      11:00    12:00\n",
       "2   Delta  2020.11.09      08:00    15:00\n",
       "3    Beta  2020.11.09      08:00    15:00\n",
       "4  Diqing  2020.11.09      19:00    23:00"
      ]
     },
     "execution_count": 5,
     "metadata": {},
     "output_type": "execute_result"
    }
   ],
   "source": [
    "df.head()"
   ]
  },
  {
   "cell_type": "code",
   "execution_count": 8,
   "metadata": {},
   "outputs": [
    {
     "name": "stdout",
     "output_type": "stream",
     "text": [
      "<class 'pandas.core.frame.DataFrame'>\n",
      "Int64Index: 284 entries, 0 to 142\n",
      "Data columns (total 4 columns):\n",
      " #   Column      Non-Null Count  Dtype \n",
      "---  ------      --------------  ----- \n",
      " 0   name        284 non-null    object\n",
      " 1   date        284 non-null    object\n",
      " 2   start_time  284 non-null    object\n",
      " 3   end_time    284 non-null    object\n",
      "dtypes: object(4)\n",
      "memory usage: 11.1+ KB\n"
     ]
    }
   ],
   "source": [
    "df.info()"
   ]
  },
  {
   "cell_type": "code",
   "execution_count": 3,
   "metadata": {},
   "outputs": [],
   "source": [
    "db.create_all()"
   ]
  },
  {
   "cell_type": "code",
   "execution_count": 5,
   "metadata": {},
   "outputs": [],
   "source": [
    "def df2studyeventsdb(df):\n",
    "    study_events = []\n",
    "    for i, row in df.iterrows():\n",
    "        study_events.append(StudyEventDB(username=row[NAME],\n",
    "                                         date=date2datetime(row[DATE]),\n",
    "                                         start_time=time2datetime(row[START_TIME]),\n",
    "                                         end_time=time2datetime(row[END_TIME])))\n",
    "    return study_events\n",
    "\n",
    "\n",
    "def studyeventsdb2df(db):\n",
    "    study_events = StudyEventDB.query.all()\n",
    "\n",
    "    df_dict = {}\n",
    "    df_dict[NAME] = [se.username for se in study_events]\n",
    "    df_dict[DATE] = [datetime2date(se.date) for se in study_events]\n",
    "    df_dict[START_TIME] = [datetime2time(se.start_time) for se in study_events]\n",
    "    df_dict[END_TIME] = [datetime2time(se.end_time) for se in study_events]\n",
    "\n",
    "    return pd.DataFrame(df_dict)\n"
   ]
  },
  {
   "cell_type": "code",
   "execution_count": 7,
   "metadata": {},
   "outputs": [
    {
     "name": "stdout",
     "output_type": "stream",
     "text": [
      "False\n"
     ]
    }
   ],
   "source": [
    "\n",
    "gs = GoogleSheet.read_from(STUDY_TIME_TABLE_NAME)\n",
    "df_dur = gs.sheet(sheet_name=SHEET1, least_col_name=START_TIME)\n",
    "df_eve = gs.sheet(sheet_name=SHEET2, least_col_name=NAME)\n",
    "\n",
    "df = merge_dur_eve(df_dur, df_eve)\n",
    "\n",
    "\n",
    "StudyEventDB.query.delete()\n",
    "db.session.commit()\n",
    "\n",
    "# load df to db\n",
    "study_events = df2studyeventsdb(df)\n",
    "db.session.add_all(study_events)\n",
    "db.session.commit()\n",
    "# for study_event in study_events:\n",
    "#    db.session.add(study_event)\n",
    "#    db.session.commit()\n",
    "\n",
    "df2 = studyeventsdb2df(db)\n"
   ]
  },
  {
   "cell_type": "code",
   "execution_count": 8,
   "metadata": {},
   "outputs": [
    {
     "name": "stdout",
     "output_type": "stream",
     "text": [
      "<class 'pandas.core.frame.DataFrame'>\n",
      "Int64Index: 284 entries, 0 to 142\n",
      "Data columns (total 4 columns):\n",
      " #   Column      Non-Null Count  Dtype \n",
      "---  ------      --------------  ----- \n",
      " 0   name        284 non-null    object\n",
      " 1   date        284 non-null    object\n",
      " 2   start_time  284 non-null    object\n",
      " 3   end_time    284 non-null    object\n",
      "dtypes: object(4)\n",
      "memory usage: 11.1+ KB\n"
     ]
    }
   ],
   "source": [
    "df.info()"
   ]
  },
  {
   "cell_type": "code",
   "execution_count": 21,
   "metadata": {},
   "outputs": [],
   "source": [
    "df = df.reset_index(drop=True)"
   ]
  },
  {
   "cell_type": "code",
   "execution_count": 22,
   "metadata": {},
   "outputs": [],
   "source": [
    "df2 = df2.reset_index(drop=True)"
   ]
  },
  {
   "cell_type": "code",
   "execution_count": 9,
   "metadata": {},
   "outputs": [
    {
     "name": "stdout",
     "output_type": "stream",
     "text": [
      "<class 'pandas.core.frame.DataFrame'>\n",
      "RangeIndex: 284 entries, 0 to 283\n",
      "Data columns (total 4 columns):\n",
      " #   Column      Non-Null Count  Dtype \n",
      "---  ------      --------------  ----- \n",
      " 0   name        284 non-null    object\n",
      " 1   date        284 non-null    object\n",
      " 2   start_time  284 non-null    object\n",
      " 3   end_time    284 non-null    object\n",
      "dtypes: object(4)\n",
      "memory usage: 9.0+ KB\n"
     ]
    }
   ],
   "source": [
    "df2.info()"
   ]
  },
  {
   "cell_type": "code",
   "execution_count": 39,
   "metadata": {},
   "outputs": [
    {
     "name": "stdout",
     "output_type": "stream",
     "text": [
      "(284, 4)\n",
      "(284, 4)\n",
      "[['Alpha' '2020.11.09' '11:00' '12:00']\n",
      " ['Delta' '2020.11.09' '11:00' '12:00']\n",
      " ['Delta' '2020.11.09' '08:00' '15:00']\n",
      " ...\n",
      " ['vivi' '2021.01.05' '13:23' '13:53']\n",
      " ['Shangsu' '2021.01.11' '10:07' '10:37']\n",
      " ['Congyu' '2021.01.11' '09:15' '09:45']]\n",
      "\n",
      "--------------------------------------------------\n",
      "\n",
      "[['Alpha' '2020.11.09' '11:00' '12:00']\n",
      " ['Delta' '2020.11.09' '11:00' '12:00']\n",
      " ['Delta' '2020.11.09' '08:00' '15:00']\n",
      " ...\n",
      " ['vivi' '2021.01.05' '13:23' '13:53']\n",
      " ['Shangsu' '2021.01.11' '10:07' '10:37']\n",
      " ['Congyu' '2021.01.11' '09:15' '09:45']]\n"
     ]
    }
   ],
   "source": [
    "import numpy as np\n",
    "np.array_equal(df.values, df2.values)\n",
    "\n",
    "print(df.values.shape)\n",
    "print(df2.values.shape)\n",
    "\n",
    "print(df.values)\n",
    "print()\n",
    "print(\"-\"*50)\n",
    "print()\n",
    "print(df2.values)"
   ]
  },
  {
   "cell_type": "code",
   "execution_count": 45,
   "metadata": {},
   "outputs": [
    {
     "name": "stdout",
     "output_type": "stream",
     "text": [
      "8:30!=08:30\n",
      "<class 'str'>\n",
      "<class 'str'>\n",
      "4\n",
      "5\n",
      "9:30!=09:30\n",
      "<class 'str'>\n",
      "<class 'str'>\n",
      "4\n",
      "5\n"
     ]
    }
   ],
   "source": [
    "for i, j in zip(df.values.ravel(), df2.values.ravel()):\n",
    "    if i!=j:\n",
    "        print(\"{}!={}\".format(i, j))\n",
    "        print(type(i))\n",
    "        print(type(j))\n",
    "        print(len(i))\n",
    "        print(len(j))"
   ]
  },
  {
   "cell_type": "code",
   "execution_count": 11,
   "metadata": {},
   "outputs": [
    {
     "name": "stdout",
     "output_type": "stream",
     "text": [
      "2020.11.09\n",
      "<class 'str'>\n"
     ]
    }
   ],
   "source": [
    "for i, row in df.iterrows():\n",
    "    print(row[\"date\"])\n",
    "    print(type(row[\"start_time\"]))\n",
    "    break"
   ]
  },
  {
   "cell_type": "code",
   "execution_count": null,
   "metadata": {},
   "outputs": [],
   "source": []
  }
 ],
 "metadata": {
  "kernelspec": {
   "display_name": "congyuml",
   "language": "python",
   "name": "congyuml"
  }
 },
 "nbformat": 4,
 "nbformat_minor": 2
}
